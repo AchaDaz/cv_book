{
 "cells": [
  {
   "cell_type": "code",
   "execution_count": 1,
   "metadata": {},
   "outputs": [],
   "source": [
    "import cv2"
   ]
  },
  {
   "cell_type": "markdown",
   "metadata": {},
   "source": [
    "Sometimes you may need to add a border to a photo or make a padding (add pixels to the desired size).\n",
    "\n",
    "For this you can use copyMakeBorder function from opencv. It takes image, sizes for top, bottom, left and right parts of border and also type of border (padding)"
   ]
  },
  {
   "cell_type": "code",
   "execution_count": 2,
   "metadata": {},
   "outputs": [],
   "source": [
    "IMAGE_PATH = 'image.jpg'\n",
    "\n",
    "image = cv2.imread(IMAGE_PATH)\n",
    "image = cv2.cvtColor(image, cv2.COLOR_BGR2RGB)\n",
    "\n",
    "BLUE = [0, 0, 255]\n",
    "\n",
    "replicate = cv2.copyMakeBorder(image, 50, 50, 50, 50, cv2.BORDER_REPLICATE) #Pixels of border copy last pixels from original image\n",
    "reflect = cv2.copyMakeBorder(image, 50, 50, 50, 50,cv2.BORDER_REFLECT) #Border will be mirror reflection of the border element\n",
    "reflect101 = cv2.copyMakeBorder(image, 50, 50, 50, 50, cv2.BORDER_REFLECT_101) #The same, but the last pixels didn't repeat\n",
    "wrap = cv2.copyMakeBorder(image, 50, 50, 50, 50, cv2.BORDER_WRAP) \n",
    "constant= cv2.copyMakeBorder(image, 10, 10, 10, 10, cv2.BORDER_CONSTANT, value=BLUE) #Border consists constant 'value'"
   ]
  },
  {
   "cell_type": "code",
   "execution_count": null,
   "metadata": {},
   "outputs": [],
   "source": [
    "cv2.imshow('replicated', replicate)\n",
    "cv2.waitKey()\n",
    "\n",
    "cv2.imshow('reflected', reflect)\n",
    "cv2.waitKey()\n",
    "\n",
    "cv2.imshow('reflected', reflect101)\n",
    "cv2.waitKey()\n",
    "\n",
    "cv2.imshow('wrapped', wrap)\n",
    "cv2.waitKey()\n",
    "\n",
    "cv2.imshow('constant blue', constant)\n",
    "cv2.waitKey()\n",
    "cv2.destroyAllWindows()"
   ]
  }
 ],
 "metadata": {
  "kernelspec": {
   "display_name": "Python 3.8.5 ('base')",
   "language": "python",
   "name": "python3"
  },
  "language_info": {
   "codemirror_mode": {
    "name": "ipython",
    "version": 3
   },
   "file_extension": ".py",
   "mimetype": "text/x-python",
   "name": "python",
   "nbconvert_exporter": "python",
   "pygments_lexer": "ipython3",
   "version": "3.8.5"
  },
  "orig_nbformat": 4,
  "vscode": {
   "interpreter": {
    "hash": "88279d2366fe020547cde40dd65aa0e3aa662a6ec1f3ca12d88834876c85e1a6"
   }
  }
 },
 "nbformat": 4,
 "nbformat_minor": 2
}
